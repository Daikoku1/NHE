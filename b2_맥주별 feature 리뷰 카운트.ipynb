{
 "cells": [
  {
   "cell_type": "code",
   "execution_count": 1,
   "metadata": {},
   "outputs": [
    {
     "name": "stderr",
     "output_type": "stream",
     "text": [
      "C:\\Users\\dty\\.conda\\envs\\June\\lib\\site-packages\\numpy\\lib\\arraysetops.py:569: FutureWarning: elementwise comparison failed; returning scalar instead, but in the future will perform elementwise comparison\n",
      "  mask |= (ar1 == a)\n"
     ]
    },
    {
     "data": {
      "text/html": [
       "<div>\n",
       "<style scoped>\n",
       "    .dataframe tbody tr th:only-of-type {\n",
       "        vertical-align: middle;\n",
       "    }\n",
       "\n",
       "    .dataframe tbody tr th {\n",
       "        vertical-align: top;\n",
       "    }\n",
       "\n",
       "    .dataframe thead th {\n",
       "        text-align: right;\n",
       "    }\n",
       "</style>\n",
       "<table border=\"1\" class=\"dataframe\">\n",
       "  <thead>\n",
       "    <tr style=\"text-align: right;\">\n",
       "      <th></th>\n",
       "      <th>name</th>\n",
       "      <th>sentence</th>\n",
       "      <th>style</th>\n",
       "    </tr>\n",
       "  </thead>\n",
       "  <tbody>\n",
       "    <tr>\n",
       "      <th>0</th>\n",
       "      <td>Ayinger Weizenbock</td>\n",
       "      <td>pours hazy light amber golden color slight hea...</td>\n",
       "      <td>German Weizenbock</td>\n",
       "    </tr>\n",
       "    <tr>\n",
       "      <th>1</th>\n",
       "      <td>Ayinger Weizenbock</td>\n",
       "      <td>pours murky ocher color surprisingly sparse cr...</td>\n",
       "      <td>German Weizenbock</td>\n",
       "    </tr>\n",
       "    <tr>\n",
       "      <th>2</th>\n",
       "      <td>Ayinger Weizenbock</td>\n",
       "      <td>aroma smell banana clove bubblegum ester along...</td>\n",
       "      <td>German Weizenbock</td>\n",
       "    </tr>\n",
       "    <tr>\n",
       "      <th>3</th>\n",
       "      <td>Ayinger Weizenbock</td>\n",
       "      <td>the taste feature vibrant banana caramel front...</td>\n",
       "      <td>German Weizenbock</td>\n",
       "    </tr>\n",
       "    <tr>\n",
       "      <th>4</th>\n",
       "      <td>Ayinger Weizenbock</td>\n",
       "      <td>bitterness nearly nonexistent vigorous carbona...</td>\n",
       "      <td>German Weizenbock</td>\n",
       "    </tr>\n",
       "  </tbody>\n",
       "</table>\n",
       "</div>"
      ],
      "text/plain": [
       "                 name                                           sentence  \\\n",
       "0  Ayinger Weizenbock  pours hazy light amber golden color slight hea...   \n",
       "1  Ayinger Weizenbock  pours murky ocher color surprisingly sparse cr...   \n",
       "2  Ayinger Weizenbock  aroma smell banana clove bubblegum ester along...   \n",
       "3  Ayinger Weizenbock  the taste feature vibrant banana caramel front...   \n",
       "4  Ayinger Weizenbock  bitterness nearly nonexistent vigorous carbona...   \n",
       "\n",
       "               style  \n",
       "0  German Weizenbock  \n",
       "1  German Weizenbock  \n",
       "2  German Weizenbock  \n",
       "3  German Weizenbock  \n",
       "4  German Weizenbock  "
      ]
     },
     "execution_count": 1,
     "metadata": {},
     "output_type": "execute_result"
    }
   ],
   "source": [
    "import pandas as pd\n",
    "df_data = pd.read_csv('beer_sentence_v1.csv', index_col = 0)\n",
    "df_data.head()\n",
    "\n"
   ]
  },
  {
   "cell_type": "code",
   "execution_count": 2,
   "metadata": {},
   "outputs": [],
   "source": [
    "from collections import Counter\n",
    "# df_data['ct'] = ''\n",
    "# for idx in range(len(df_data)):\n",
    "#     df_data['ct'][idx] = Counter(df_data['sentence'][idx].split())\n",
    "#     break"
   ]
  },
  {
   "cell_type": "code",
   "execution_count": 7,
   "metadata": {},
   "outputs": [],
   "source": [
    "new=[]\n",
    "for idx in df_data['name'].unique():\n",
    "    sent = list(df_data[df_data['name'] == '{}'.format(idx)]['sentence'])\n",
    "    sent2 = []\n",
    "    for idx2 in sent:\n",
    "        sent2.extend(idx2.split())\n",
    "    new.append({'name':idx,\n",
    "                'feature':Counter(sent2).most_common()})"
   ]
  },
  {
   "cell_type": "code",
   "execution_count": 8,
   "metadata": {},
   "outputs": [],
   "source": [
    "import pandas as pd\n",
    "name = pd.DataFrame(new)"
   ]
  },
  {
   "cell_type": "code",
   "execution_count": 10,
   "metadata": {},
   "outputs": [],
   "source": [
    "name.to_csv('beer_features.csv')"
   ]
  },
  {
   "cell_type": "code",
   "execution_count": null,
   "metadata": {},
   "outputs": [],
   "source": []
  }
 ],
 "metadata": {
  "kernelspec": {
   "display_name": "Python 3",
   "language": "python",
   "name": "python3"
  },
  "language_info": {
   "codemirror_mode": {
    "name": "ipython",
    "version": 3
   },
   "file_extension": ".py",
   "mimetype": "text/x-python",
   "name": "python",
   "nbconvert_exporter": "python",
   "pygments_lexer": "ipython3",
   "version": "3.6.8"
  }
 },
 "nbformat": 4,
 "nbformat_minor": 2
}
