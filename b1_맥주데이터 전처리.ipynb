{
 "cells": [
  {
   "cell_type": "code",
   "execution_count": 1,
   "metadata": {},
   "outputs": [],
   "source": [
    "import pandas as pd\n",
    "b = pd.read_csv(r'C:\\Users\\dty\\Desktop\\chatbot\\beeradvocate\\beer\\beer_review1.csv')"
   ]
  },
  {
   "cell_type": "code",
   "execution_count": null,
   "metadata": {},
   "outputs": [],
   "source": [
    "import re\n",
    "b['review'] = b['review'].apply(lambda x : re.sub('<br>|\\n|&amp', '', x))"
   ]
  },
  {
   "cell_type": "code",
   "execution_count": null,
   "metadata": {},
   "outputs": [],
   "source": [
    "def data_text_cleaning(data):\n",
    " \n",
    "    # 영문자 이외 문자는 공백으로 변환\n",
    "    only_english = re.sub('[^a-zA-Z\\.]', ' ', data)\n",
    " \n",
    "    # 소문자 변환\n",
    "    no_capitals = only_english.lower().split()\n",
    " \n",
    "    # 불용어 제거\n",
    "    stops = set(stopwords.words('english'))\n",
    "    no_stops = [word for word in no_capitals if not word in stops]\n",
    " \n",
    "    # 어간 추출\n",
    "  \n",
    "    lemmatizer = WordNetLemmatizer() \n",
    "    stemmer_words = [lemmatizer.lemmatize(word) for word in no_stops]\n",
    " \n",
    "    # 공백으로 구분된 문자열로 결합하여 결과 반환\n",
    "    return ' '.join(stemmer_words)\n"
   ]
  },
  {
   "cell_type": "code",
   "execution_count": null,
   "metadata": {},
   "outputs": [],
   "source": [
    "from nltk.corpus import stopwords\n",
    "import nltk\n",
    "from nltk.stem import WordNetLemmatizer \n",
    "b['tokens'] = b['review'].apply(lambda x : data_text_cleaning(x))"
   ]
  },
  {
   "cell_type": "code",
   "execution_count": null,
   "metadata": {
    "scrolled": true
   },
   "outputs": [],
   "source": [
    "b['style'].value_counts()"
   ]
  },
  {
   "cell_type": "code",
   "execution_count": null,
   "metadata": {
    "scrolled": false
   },
   "outputs": [],
   "source": [
    "b = b[b['review_ct']>= 10]\n",
    "b = b.reset_index(drop=True)"
   ]
  },
  {
   "cell_type": "code",
   "execution_count": null,
   "metadata": {},
   "outputs": [],
   "source": [
    "b['score'][0]"
   ]
  },
  {
   "cell_type": "code",
   "execution_count": null,
   "metadata": {},
   "outputs": [],
   "source": [
    "# a['score'][0].split('<span class=\"muted\">')[1].split('</span>')[0]\n",
    "import re\n",
    "def data_text_cleaning2(text):\n",
    "    try:\n",
    "        mid_text = text.split('<br><span class=\"muted\">')[1].split('</span>')[0]\n",
    "        return mid_text\n",
    "    except:\n",
    "        pass\n",
    "b['score'] = b['score'].apply(lambda x : data_text_cleaning2(x))"
   ]
  },
  {
   "cell_type": "code",
   "execution_count": null,
   "metadata": {},
   "outputs": [],
   "source": [
    "b.to_csv('beer_aftertokens.csv')"
   ]
  },
  {
   "cell_type": "code",
   "execution_count": null,
   "metadata": {},
   "outputs": [],
   "source": [
    "def printing(num):\n",
    "    print(b['review'][num],'\\n')\n",
    "    print(b['tokens'][num])"
   ]
  },
  {
   "cell_type": "code",
   "execution_count": null,
   "metadata": {},
   "outputs": [],
   "source": [
    "## 헷갈리는단어 = ['flavor', 맛과 향,'tongue', 맛과 목넘김]\n",
    "taste = ['taste','t:','tasting']\n",
    "look = ['look','l:','appearance','a:','color']\n",
    "smell = ['smell','s:','aroma','n:','nose']\n",
    "feel = ['feel','f:','touch','m:','mouthfeel','mouth feel','mouth','mouthful','drink','swallowing']\n",
    "overall = ['overall','oa:','o:']"
   ]
  },
  {
   "cell_type": "code",
   "execution_count": null,
   "metadata": {},
   "outputs": [],
   "source": [
    "printing(61)"
   ]
  },
  {
   "cell_type": "markdown",
   "metadata": {},
   "source": [
    "### beer 문장의 단어들 수"
   ]
  },
  {
   "cell_type": "code",
   "execution_count": 1,
   "metadata": {},
   "outputs": [],
   "source": [
    "import pandas as pd"
   ]
  },
  {
   "cell_type": "code",
   "execution_count": 5,
   "metadata": {},
   "outputs": [],
   "source": [
    "a = pd.read_csv('beer_aftertokens.csv',index_col = 0)"
   ]
  },
  {
   "cell_type": "code",
   "execution_count": 16,
   "metadata": {},
   "outputs": [
    {
     "data": {
      "text/plain": [
       "'A-Pours a hazy light amber golden color with a slight head and lacingA-Aroma had wheat, spices and herbal hintsT-The taste follows the nose with a wheat, spices and herbal flavorM-A light bodied moderately carbonated beerO-A good Weizenbock'"
      ]
     },
     "execution_count": 16,
     "metadata": {},
     "output_type": "execute_result"
    }
   ],
   "source": [
    "a['review'][0]"
   ]
  },
  {
   "cell_type": "code",
   "execution_count": 17,
   "metadata": {},
   "outputs": [],
   "source": [
    "temp = []\n",
    "for idx in range(0, len(a)):\n",
    "    for idx2 in a['tokens'][idx].split('.'):\n",
    "        if len(idx2.strip().split())>3:\n",
    "            temp_dict ={}\n",
    "            temp_dict = {'name': a['name'][idx],\n",
    "                         'style':a['style'][idx],\n",
    "                         'sentence':idx2.strip()\n",
    "                        }\n",
    "            temp.append(temp_dict)"
   ]
  },
  {
   "cell_type": "code",
   "execution_count": 18,
   "metadata": {},
   "outputs": [],
   "source": [
    "beer = pd.DataFrame(temp)"
   ]
  },
  {
   "cell_type": "code",
   "execution_count": 21,
   "metadata": {},
   "outputs": [],
   "source": [
    "beer.to_csv('beer_sentence_v1.csv')"
   ]
  },
  {
   "cell_type": "markdown",
   "metadata": {},
   "source": [
    "### 위에까지만"
   ]
  },
  {
   "cell_type": "code",
   "execution_count": 5,
   "metadata": {},
   "outputs": [],
   "source": [
    "import re\n",
    "def aaa(abb):\n",
    "    try:\n",
    "        d= []\n",
    "        abc = abb.split('.')\n",
    "        for idx in abc:\n",
    "            d.append(len(idx.split(' ')))\n",
    "        return d\n",
    "    except:\n",
    "        pass\n",
    "a['len'] =a['tokens'].apply(lambda x : aaa(x))"
   ]
  },
  {
   "cell_type": "code",
   "execution_count": 23,
   "metadata": {},
   "outputs": [],
   "source": [
    "ddd = pd.DataFrame(a)\n",
    "ddd.to_csv('받아라아.csv')"
   ]
  },
  {
   "cell_type": "code",
   "execution_count": 8,
   "metadata": {},
   "outputs": [],
   "source": [
    "abc = []\n",
    "for idx in a['len']:\n",
    "    for idx2 in idx:\n",
    "        abc.append(idx2)"
   ]
  },
  {
   "cell_type": "code",
   "execution_count": 15,
   "metadata": {},
   "outputs": [],
   "source": [
    "import numpy as np\n",
    "\n",
    "a = np.array(abc)\n",
    "b = np.mean(a)"
   ]
  },
  {
   "cell_type": "code",
   "execution_count": 20,
   "metadata": {},
   "outputs": [
    {
     "data": {
      "image/png": "[encoded data removed]",
      "text/plain": [
       "<Figure size 432x288 with 1 Axes>"
      ]
     },
     "metadata": {
      "needs_background": "light"
     },
     "output_type": "display_data"
    }
   ],
   "source": [
    "from matplotlib import pyplot as plt \n",
    "\n",
    "x = a\n",
    "plt.title(\"Matplotlib demo\") \n",
    "plt.xlabel(\"x axis caption\") \n",
    "plt.ylabel(\"y axis caption\") \n",
    "plt.plot(x) \n",
    "plt.show()"
   ]
  },
  {
   "cell_type": "code",
   "execution_count": 37,
   "metadata": {
    "scrolled": true
   },
   "outputs": [
    {
     "data": {
      "text/plain": [
       "2.9002417810572574"
      ]
     },
     "execution_count": 37,
     "metadata": {},
     "output_type": "execute_result"
    }
   ],
   "source": [
    "(len(ddd)-len(ddd[ddd[0] <=17]))/len(ddd)*100"
   ]
  }
 ],
 "metadata": {
  "kernelspec": {
   "display_name": "Python 3",
   "language": "python",
   "name": "python3"
  },
  "language_info": {
   "codemirror_mode": {
    "name": "ipython",
    "version": 3
   },
   "file_extension": ".py",
   "mimetype": "text/x-python",
   "name": "python",
   "nbconvert_exporter": "python",
   "pygments_lexer": "ipython3",
   "version": "3.6.8"
  }
 },
 "nbformat": 4,
 "nbformat_minor": 2
}
