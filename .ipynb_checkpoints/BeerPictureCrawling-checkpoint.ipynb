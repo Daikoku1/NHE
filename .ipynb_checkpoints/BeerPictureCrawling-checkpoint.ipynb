{
 "cells": [
  {
   "cell_type": "code",
   "execution_count": 6,
   "metadata": {},
   "outputs": [],
   "source": [
    "# import moduels\n",
    "import requests # for crawling\n",
    "from bs4 import BeautifulSoup # for crawling\n",
    "import pandas as pd # for handle DataFrame\n",
    "import numpy as np # for handle DataFrame\n",
    "import os # for handle local environment\n",
    "import re # for handel str()"
   ]
  },
  {
   "cell_type": "code",
   "execution_count": 9,
   "metadata": {},
   "outputs": [],
   "source": [
    "# aa = pd.read_csv(\"BeerVer5.csv\")\n",
    "# aa = pd.DataFrame(aa['name'])\n",
    "# aa.head()\n",
    "# aa.to_csv(\"beer_name.csv\")"
   ]
  },
  {
   "cell_type": "code",
   "execution_count": null,
   "metadata": {},
   "outputs": [],
   "source": [
    "class BeerPictureCrawling(object):\n",
    "    beers = list() # 전역변수 beers\n",
    "    \n",
    "    def __init__(self): # instance 변수 사용 안함 \n",
    "        pass\n",
    "    \n",
    "    # 1. 다운 받을 맥주 이름 불러오고 list로 변경\n",
    "    def To_list(self, column_name):\n",
    "        self.column_name = column_name\n",
    "        \n",
    "        # 맥주의 이름만 추출한 csv 파일 불러오기\n",
    "        Beer_names_df = pd.read_csv(\"beer_name.csv\", encoding='utf-8')\n",
    "        beer_names = list(Beer_names_df[column_name])\n",
    "        beer_names.sort() \n",
    "\n",
    "        # beers에 담기 \n",
    "        for beer in beer_names:\n",
    "            beer = beer + \" beer\" # beer를 넣어야 검색 효율성이 증대\n",
    "\n",
    "            # 특수문자를 제거함으로써 검색 효율성 증대 + 오류 방지\n",
    "            parsed_beer = re.sub('[-=+,#/\\?:^$.@*\\\"※~&%ㆍ!』\\\\‘|\\(\\)\\[\\]\\<\\>`\\'…》]', '', beer)\n",
    "\n",
    "            # 구글은 + 문자를 인식하므로, 공백을 + 로 대체 \n",
    "            parsed_beer = parsed_beer.replace(\" \",\"+\")\n",
    "            \n",
    "            # beers 리스트에 append \n",
    "            BeerPictureCrawling.beers.append(parsed_beer)\n",
    "            \n",
    "        return BeerPictureCrawling.beers\n",
    "            \n",
    "    # 2. 구글 이미지 검색으로 requests 요청\n",
    "    def BeerCrawling(self):\n",
    "        count = 0 # 결과 수를 count\n",
    "        error_count = 0 # 에러 수를 count\n",
    "        error_list = list() # error가 뜬 맥주를 확인하기 위한 error list()\n",
    "        \n",
    "        ##############################################################################\n",
    "        \n",
    "        # 폴더 생성 code\n",
    "        BASE_DIR = \"C:\\\\Users\\\\User\\\\Desktop\" # 바탕화면\n",
    "        PICTURE_DIR = os.path.join(BASE_DIR, 'beer_pictures') # 폴더이름: beer_pictures\n",
    "\n",
    "        # 만약 경로가 없으면, 새로운 폴더를 생성하겠습니다.\n",
    "        if not os.path.exists(PICTURE_DIR):\n",
    "            os.makedirs(PICTURE_DIR) \n",
    "        \n",
    "        ##############################################################################\n",
    "        \n",
    "        # Crawling codes    \n",
    "        for b in BeerPictureCrawling.beers:\n",
    "            try:\n",
    "                filename= b.replace(\"+\",\" \")[:-5] + \".png\" # png 형식의 파일 \n",
    "                print(filename)\n",
    "                BASE_URL = \"https://www.google.com/search\"\n",
    "                params = {\n",
    "                    'tbm': 'isch',\n",
    "                    'q': b,\n",
    "                    'tbs': 'ic:specific,isc:white'\n",
    "                }\n",
    "\n",
    "                resp = requests.get(BASE_URL, params=params)\n",
    "                # print(resp)\n",
    "                # print(resp.url)\n",
    "                \n",
    "                soup = BeautifulSoup(resp.content, 'html.parser')\n",
    "                # print(soup)\n",
    "\n",
    "                beer_tag = str(soup.find_all('a')[40]) # 가져올 이미지 링크가 존재하는 tag\n",
    "                # print(beer_tag)\n",
    "                \n",
    "                if \"spell=1\" in beer_tag: # \"이것을 찾으셨나요?, 수정된 검색어에 대한 결과\" tag\n",
    "                    beer_tag = str(soup.find_all('a')[41])\n",
    "                    if \"nfpr=1\" in beer_tag: # \"다음 검색어로 대신 검색\" tag\n",
    "                        beer_tag = str(soup.find_all('a')[42])\n",
    "                    else:\n",
    "                        pass\n",
    "                else:\n",
    "                    pass\n",
    "\n",
    "                beer_picture_url = beer_tag.split(\" \")[-2].replace(\"src=\",\"\").replace('\"',\"\")\n",
    "                # print(beer_picture_url)\n",
    "\n",
    "                img_resp = requests.get(beer_picture_url)\n",
    "                # print(resp2)\n",
    "\n",
    "                beers_picture_path = os.path.join(PICTURE_DIR, filename)\n",
    "                with open(beers_picture_path, 'wb') as f:\n",
    "                    f.write(img_resp.content) # 이미지 파일 쓰기\n",
    "\n",
    "                count += 1\n",
    "\n",
    "            except:\n",
    "                error_list.append(b)\n",
    "                error_count += 1\n",
    "                pass\n",
    "\n",
    "        # 문자열 추가 \n",
    "        print(\"전체 맥주의 수: \", len(BeerPictureCrawling.beers)) # 전체 맥주 이름 list \n",
    "        print(\"\\n수집된 맥주의 수: \", count) # 실제로 수집된 맥주 수 \n",
    "        print(\"\\n에러가 난 맥주의 수: \", error_count) # 에러가 발생한 맥주 수 \n",
    "        print(\"\\n0?\", len(BeerPictureCrawling.beers) - (count + error_count)) # 0이 나와야 정상 "
   ]
  },
  {
   "cell_type": "code",
   "execution_count": null,
   "metadata": {},
   "outputs": [],
   "source": [
    "Test = BeerPictureCrawling()"
   ]
  },
  {
   "cell_type": "code",
   "execution_count": null,
   "metadata": {
    "scrolled": true
   },
   "outputs": [],
   "source": [
    "Test.To_list('name')"
   ]
  },
  {
   "cell_type": "code",
   "execution_count": null,
   "metadata": {},
   "outputs": [],
   "source": [
    "Test.BeerCrawling()"
   ]
  },
  {
   "cell_type": "markdown",
   "metadata": {},
   "source": [
    "### 이후 수정사항\n",
    "1. error 가 발생한 맥주를 제거하기 위한 새로운 리스트 생성 후, 전체 데이터에서 삭제하는 과정을 거침\n",
    " - 전체 데이터에서 삭제하는 코드는 여기에 존재하지 않음"
   ]
  },
  {
   "cell_type": "code",
   "execution_count": 4,
   "metadata": {},
   "outputs": [
    {
     "data": {
      "text/plain": [
       "['1809',\n",
       " 'A Deal With The Devil',\n",
       " 'Aon Pecan Mud Cake  Bourbon BarrelAged',\n",
       " 'Black Giraffe',\n",
       " 'Black Mac',\n",
       " 'Brasserie Des Rocs Triple Impériale',\n",
       " 'Café Del Bastardo',\n",
       " 'Dugges  Stillwater  Speyside Cacao',\n",
       " 'Elixir',\n",
       " 'Full Moon Pale Ale',\n",
       " 'Hallo Ich Bin Berliner Weisse  Passion Fruit',\n",
       " 'Hilma',\n",
       " 'Hitachino Nest Real Ginger Ale',\n",
       " 'Hypnopompa  Rum BarrelAged',\n",
       " 'Jack Hammer',\n",
       " 'Karpackie Super',\n",
       " 'Kubelbier',\n",
       " 'La Lupulosa',\n",
       " 'La Trappe Dubbel Koningshoeven  Dominus',\n",
       " 'Mornington Peninsula Brown Ale',\n",
       " 'OHaras Leann Folláin',\n",
       " 'Old World Russian Imperial Stout',\n",
       " 'Paulaner HefeWeissbier Naturtrüb',\n",
       " 'Porter Boom',\n",
       " 'Shipwreck IPA',\n",
       " 'Sigtuna Midvinterblot 2012  ',\n",
       " 'Tasty Juice',\n",
       " 'Temptress Chocolate Porter',\n",
       " 'Tsarina Esra',\n",
       " 'Weihenstephaner Pils',\n",
       " 'West Coast Wheat Wine',\n",
       " 'Youngs London Stout',\n",
       " '\\x8eŽatec Dark Lager']"
      ]
     },
     "execution_count": 4,
     "metadata": {},
     "output_type": "execute_result"
    }
   ],
   "source": [
    "errorlist = ['1809+beer', 'A+Deal+With+The+Devil+beer', 'Aon+Pecan+Mud+Cake++Bourbon+BarrelAged+beer', 'Black+Giraffe+beer', 'Black+Mac+beer', 'Brasserie+Des+Rocs+Triple+Impériale+beer', 'Café+Del+Bastardo+beer', 'Dugges++Stillwater++Speyside+Cacao+beer', 'Elixir+beer', 'Full+Moon+Pale+Ale+beer', 'Hallo+Ich+Bin+Berliner+Weisse++Passion+Fruit+beer', 'Hilma+beer', 'Hitachino+Nest+Real+Ginger+Ale+beer', 'Hypnopompa++Rum+BarrelAged+beer', 'Jack+Hammer+beer', 'Karpackie+Super+beer', 'Kubelbier+beer', 'La+Lupulosa+beer', 'La+Trappe+Dubbel+Koningshoeven++Dominus+beer', 'Mornington+Peninsula+Brown+Ale+beer', 'OHaras+Leann+Folláin+beer', 'Old+World+Russian+Imperial+Stout+beer', 'Paulaner+HefeWeissbier+Naturtrüb+beer', 'Porter+Boom+beer', 'Shipwreck+IPA+beer', 'Sigtuna+Midvinterblot+2012+++beer', 'Tasty+Juice+beer', 'Temptress+Chocolate+Porter+beer', 'Tsarina+Esra+beer', 'Weihenstephaner+Pils+beer', 'West+Coast+Wheat+Wine+beer', 'Youngs+London+Stout+beer', '\\x8eŽatec+Dark+Lager+beer']\n",
    "todellist = list()\n",
    "\n",
    "for error in errorlist:\n",
    "    error = error.replace(\"+\",\" \")[:-5]\n",
    "    todellist.append(error)\n",
    "\n",
    "todellist"
   ]
  },
  {
   "cell_type": "code",
   "execution_count": null,
   "metadata": {},
   "outputs": [],
   "source": []
  }
 ],
 "metadata": {
  "kernelspec": {
   "display_name": "Python 3",
   "language": "python",
   "name": "python3"
  },
  "language_info": {
   "codemirror_mode": {
    "name": "ipython",
    "version": 3
   },
   "file_extension": ".py",
   "mimetype": "text/x-python",
   "name": "python",
   "nbconvert_exporter": "python",
   "pygments_lexer": "ipython3",
   "version": "3.7.3"
  }
 },
 "nbformat": 4,
 "nbformat_minor": 2
}
