{
 "cells": [
  {
   "cell_type": "code",
   "execution_count": 1,
   "metadata": {},
   "outputs": [],
   "source": [
    "import pandas as pd\n",
    "a = pd.read_pickle('name_features.pkl')"
   ]
  },
  {
   "cell_type": "code",
   "execution_count": 13,
   "metadata": {},
   "outputs": [
    {
     "data": {
      "text/plain": [
       "0       {'medium': 89, 'carbonation': 84, 'feel': 60, ...\n",
       "1       {'carbonation': 271, 'medium': 227, 'feel': 17...\n",
       "2       {'carbonation': 54, 'feel': 45, 'medium': 43, ...\n",
       "3       {'nice': 6, 'carbonation': 5, 'quite': 4, 'car...\n",
       "4       {'carbonation': 22, 'feel': 17, 'medium': 14, ...\n",
       "5       {'carbonation': 54, 'feel': 50, 'alcohol': 48,...\n",
       "6       {'little': 9, 'feel': 9, 'light': 7, 'hop': 6,...\n",
       "7       {'hard': 1, 'describe': 1, 'little': 1, 'cake'...\n",
       "8       {'carbonation': 5, 'medium': 4, 'element': 3, ...\n",
       "9       {'medium': 6, 'feel': 6, 'end': 5, 'carbonatio...\n",
       "10      {'carbonation': 6, 'light': 4, 'feel': 4, 'med...\n",
       "11      {'body': 3, 'nice': 3, 'medium': 3, 'light': 2...\n",
       "12      {'caramel': 10, 'medium': 10, 'toffee': 7, 'sw...\n",
       "13      {'feel': 3, 'malt': 3, 'plenty': 3, 'little': ...\n",
       "14      {'light': 2, 'gold': 1, 'cleare': 1, 'lager': ...\n",
       "15      {'carbonation': 14, 'feel': 14, 'medium': 13, ...\n",
       "16      {'feel': 11, 'carbonation': 8, 'sweet': 7, 'th...\n",
       "17      {'feel': 7, 'smooth': 5, 'bourbon': 4, 'body':...\n",
       "18      {'carbonation': 4, 'finish': 3, 'crisp': 3, 'q...\n",
       "19      {'feel': 14, 'peach': 12, 'medium': 9, 'carbon...\n",
       "20      {'medium': 4, 'body': 3, 'well': 2, 'dry': 2, ...\n",
       "21      {'medium': 4, 'bitter': 4, 'yeast': 3, 'dry': ...\n",
       "22      {'feel': 6, 'medium': 4, 'carbonation': 4, 'so...\n",
       "23      {'feel': 5, 'medium': 4, 'carbonation': 4, 'ho...\n",
       "24      {'feel': 12, 'light': 9, 'medium': 6, 'strawbe...\n",
       "25      {'coffee': 16, 'carbonation': 10, 'medium': 10...\n",
       "26      {'body': 3, 'good': 2, 'medium': 2, 'light': 2...\n",
       "27      {'medium': 8, 'carbonation': 5, 'body': 4, 'sm...\n",
       "28      {'carbonation': 2, 'full': 1, 'bodied': 1, 'so...\n",
       "29      {'feel': 427, 'carbonation': 368, 'smooth': 35...\n",
       "                              ...                        \n",
       "1259    {'feel': 182, 'carbonation': 172, 'medium': 15...\n",
       "1260    {'feel': 19, 'creamy': 11, 'carbonation': 10, ...\n",
       "1261    {'medium': 283, 'feel': 259, 'carbonation': 25...\n",
       "1262    {'carbonation': 105, 'medium': 101, 'feel': 79...\n",
       "1263    {'dark': 16, 'chocolate': 11, 'feel': 8, 'mola...\n",
       "1264    {'medium': 117, 'carbonation': 110, 'smooth': ...\n",
       "1265    {'carbonation': 66, 'feel': 62, 'medium': 53, ...\n",
       "1266    {'medium': 14, 'carbonation': 10, 'feel': 9, '...\n",
       "1267    {'carbonation': 66, 'feel': 63, 'medium': 57, ...\n",
       "1268    {'feel': 141, 'carbonation': 141, 'smooth': 12...\n",
       "1269    {'smooth': 13, 'feel': 10, 'carbonation': 9, '...\n",
       "1270    {'carbonation': 118, 'medium': 110, 'feel': 98...\n",
       "1271    {'feel': 48, 'carbonation': 41, 'full': 30, 'p...\n",
       "1272    {'carbonation': 43, 'feel': 40, 'medium': 30, ...\n",
       "1273    {'full': 14, 'medium': 11, 'carbonation': 11, ...\n",
       "1274    {'carbonation': 111, 'medium': 102, 'feel': 10...\n",
       "1275    {'smooth': 250, 'carbonation': 244, 'feel': 23...\n",
       "1276    {'feel': 24, 'carbonation': 24, 'smooth': 23, ...\n",
       "1277    {'feel': 29, 'maple': 27, 'thick': 26, 'coffee...\n",
       "1278    {'feel': 136, 'carbonation': 127, 'smooth': 96...\n",
       "1279    {'smooth': 211, 'carbonation': 204, 'medium': ...\n",
       "1280    {'feel': 10, 'carbonation': 9, 'silky': 8, 'sm...\n",
       "1281    {'carbonation': 31, 'feel': 25, 'medium': 20, ...\n",
       "1282    {'smooth': 494, 'feel': 416, 'creamy': 365, 'c...\n",
       "1283    {'feel': 58, 'carbonation': 49, 'smooth': 43, ...\n",
       "1284    {'carbonation': 65, 'feel': 62, 'dark': 43, 's...\n",
       "1285    {'chocolate': 177, 'feel': 171, 'medium': 106,...\n",
       "1286    {'feel': 168, 'carbonation': 165, 'thick': 133...\n",
       "1287    {'feel': 11, 'creamy': 9, 'carbonation': 6, 'p...\n",
       "1288    {'feel': 21, 'full': 15, 'carbonation': 15, 'p...\n",
       "Name: feel, Length: 1289, dtype: object"
      ]
     },
     "execution_count": 13,
     "metadata": {},
     "output_type": "execute_result"
    }
   ],
   "source": [
    "a['feel']"
   ]
  },
  {
   "cell_type": "code",
   "execution_count": 17,
   "metadata": {},
   "outputs": [
    {
     "data": {
      "text/plain": [
       "dict_items([('carbonation', 22), ('feel', 17), ('medium', 14), ('chocolate', 9), ('coffee', 9), ('smooth', 8), ('full', 8), ('body', 7), ('bodied', 7), ('style', 6), ('creamy', 6), ('almost', 5), ('thick', 4), ('malt', 4), ('note', 4), ('fruit', 4), ('bit', 4), ('belgian', 4), ('much', 4), ('slightly', 4), ('would', 4), ('excellent', 3), ('dark', 3), ('starbucks', 3), ('pretty', 3), ('f', 3), ('milk', 3), ('light', 3), ('sweet', 3), ('great', 3), ('flavor', 3), ('vanilla', 3), ('rich', 3), ('lower', 3), ('level', 3), ('perhaps', 3), ('caramel', 3), ('alcohol', 3), ('plum', 3), ('spice', 3), ('ethanol', 3), ('syrup', 3), ('taste', 3), ('sticky', 2), ('overall', 2), ('provide', 2), ('yet', 2), ('thin', 2), ('miss', 2), ('warmth', 2), ('first', 2), ('come', 2), ('out', 2), ('back', 2), ('well', 2), ('cream', 2), ('moderate', 2), ('abv', 2), ('amount', 2), ('finish', 2), ('chewy', 2), ('expecting', 2), ('sweetness', 2), ('palate', 2), ('texture', 2), ('good', 2), ('around', 2), ('down', 2), ('nose', 2), ('fairly', 2), ('bready', 2), ('nice', 2), ('candied', 2), ('sugar', 2), ('hint', 2), ('slight', 2), ('leading', 2), ('le', 2), ('going', 2), ('stick', 2), ('viscous', 2), ('enough', 2), ('bubble', 1), ('gum', 1), ('banana', 1), ('forward', 1), ('distinctive', 1), ('espresso', 1), ('background', 1), ('creaminess', 1), ('combine', 1), ('unique', 1), ('take', 1), ('dammit', 1), ('drinking', 1), ('quad', 1), ('mixed', 1), ('something', 1), ('other', 1), ('lacking', 1), ('understand', 1), ('seasonal', 1), ('big', 1), ('noticeable', 1), ('still', 1), ('calm', 1), ('bubbles', 1), ('cold', 1), ('sensation', 1), ('let', 1), ('warm', 1), ('spicier', 1), ('closer', 1), ('kiss', 1), ('fade', 1), ('candy', 1), ('warming', 1), ('booze', 1), ('decently', 1), ('hidden', 1), ('fresh', 1), ('bread', 1), ('perfect', 1), ('powdery', 1), ('swiss', 1), ('hot', 1), ('type', 1), ('definitely', 1), ('latte', 1), ('black', 1), ('also', 1), ('licorice', 1), ('large', 1), ('bottle', 1), ('served', 1), ('snifter', 1), ('fair', 1), ('leaving', 1), ('lightly', 1), ('syrupy', 1), ('ginger', 1), ('authentic', 1), ('taffy', 1), ('drizzle', 1), ('interesting', 1), ('sugared', 1), ('holiday', 1), ('go', 1), ('direction', 1), ('lighter', 1), ('side', 1), ('load', 1), ('bubbly', 1), ('me', 1), ('key', 1), ('one', 1), ('main', 1), ('driving', 1), ('force', 1), ('small', 1), ('patch', 1), ('lace', 1), ('form', 1), ('glass', 1), ('crisp', 1), ('quality', 1), ('follows', 1), ('emphasis', 1), ('ice', 1), ('cotton', 1), ('controlled', 1), ('present', 1), ('modest', 1), ('so', 1), ('slick', 1), ('moderately', 1), ('lay', 1), ('serious', 1), ('roastiness', 1), ('bean', 1), ('cr', 1), ('br', 1), ('l', 1), ('e', 1), ('nut', 1), ('mocha', 1), ('powder', 1), ('peach', 1), ('cherry', 1), ('baking', 1), ('dry', 1), ('kind', 1), ('keep', 1), ('check', 1), ('overt', 1), ('hoppiness', 1), ('sort', 1), ('stiff', 1), ('posture', 1), ('hop', 1), ('weight', 1), ('start', 1), ('sweetly', 1), ('end', 1), ('drily', 1), ('make', 1), ('dinner', 1), ('sip', 1), ('savor', 1), ('quite', 1), ('burn', 1), ('er', 1), ('prune', 1), ('cinnamon', 1), ('mind', 1), ('heft', 1), ('try', 1), ('alcoholic', 1), ('version', 1), ('range', 1), ('allow', 1), ('exclusion', 1), ('adjunct', 1), ('heftier', 1), ('obvious', 1), ('aroma', 1), ('sweetned', 1), ('hazelnut', 1), ('burnt', 1), ('toast', 1), ('peppery', 1), ('yeast', 1), ('phenolics', 1), ('intensity', 1), ('foamy', 1), ('unpleasant', 1), ('never', 1), ('fizzy', 1), ('appreciated', 1), ('heavier', 1), ('heavy', 1), ('fabulous', 1), ('porter', 1), ('add', 1), ('intense', 1), ('lot', 1), ('maybe', 1), ('watery', 1), ('seek', 1), ('sharp', 1), ('stinging', 1), ('roof', 1), ('cocoa', 1), ('toffee', 1), ('along', 1), ('raisin', 1), ('fig', 1), ('cough', 1), ('mild', 1), ('roasty', 1), ('delicate', 1), ('subtle', 1), ('semi', 1), ('able', 1), ('unscent', 1), ('wow', 1), ('word', 1), ('couple', 1), ('reasons', 1), ('causing', 1), ('analyze', 1), ('even', 1), ('further', 1), ('nummy', 1), ('experienced', 1), ('surprising', 1), ('given', 1), ('indeed', 1), ('seems', 1), ('cause', 1), ('way', 1), ('though', 1), ('fact', 1), ('cling', 1), ('tongue', 1), ('palette', 1), ('maple', 1), ('y', 1), ('manages', 1), ('save', 1), ('nature', 1), ('leaf', 1), ('you', 1)])"
      ]
     },
     "execution_count": 17,
     "metadata": {},
     "output_type": "execute_result"
    }
   ],
   "source": [
    "a['feel'][4].items()"
   ]
  },
  {
   "cell_type": "code",
   "execution_count": null,
   "metadata": {},
   "outputs": [],
   "source": []
  }
 ],
 "metadata": {
  "kernelspec": {
   "display_name": "Python 3",
   "language": "python",
   "name": "python3"
  },
  "language_info": {
   "codemirror_mode": {
    "name": "ipython",
    "version": 3
   },
   "file_extension": ".py",
   "mimetype": "text/x-python",
   "name": "python",
   "nbconvert_exporter": "python",
   "pygments_lexer": "ipython3",
   "version": "3.6.8"
  }
 },
 "nbformat": 4,
 "nbformat_minor": 2
}
